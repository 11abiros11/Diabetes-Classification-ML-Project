{
 "cells": [
  {
   "cell_type": "code",
   "execution_count": 1,
   "id": "2d31c75f",
   "metadata": {},
   "outputs": [],
   "source": [
    "import numpy as np\n",
    "import tensorflow as tf\n",
    "from sklearn.metrics import f1_score\n",
    "\n",
    "import neural_network_methods as nn"
   ]
  },
  {
   "cell_type": "code",
   "execution_count": 2,
   "id": "7f14960b",
   "metadata": {},
   "outputs": [],
   "source": [
    "data = np.loadtxt('diabetes_dataset.csv', str)\n",
    "data_test = np.loadtxt('diabetes_test_set.csv', str)"
   ]
  },
  {
   "cell_type": "code",
   "execution_count": 3,
   "id": "9424ca82",
   "metadata": {},
   "outputs": [],
   "source": [
    "def construct_X(data):\n",
    "    \n",
    "    n = len(data)\n",
    "    num_features = 0\n",
    "    \n",
    "    for i in range(len(data[0])):\n",
    "        if(data[0][i] == \",\"):\n",
    "            num_features += 1\n",
    "    \n",
    "    X = np.zeros((n, num_features))\n",
    "    for i in range(n):\n",
    "        arr = data[i].split(\",\")\n",
    "        for j in range(num_features):\n",
    "            X[i][j] = arr[j]\n",
    "        \n",
    "    return X.T\n",
    "    \n",
    "\n",
    "def construct_Y(data):\n",
    "    \n",
    "    n = len(data)\n",
    "    \n",
    "    Y = np.zeros(n)\n",
    "    for i in range(n):\n",
    "        Y[i] = data[i][-1]\n",
    "        \n",
    "    return Y\n",
    "\n",
    "def normalize(X):\n",
    "    num_features = X.shape[0]\n",
    "    for i in range(num_features):\n",
    "        X[i] = (X[i]-np.mean(X[i]))/np.std(X[i])\n",
    "        \n",
    "    return X"
   ]
  },
  {
   "cell_type": "code",
   "execution_count": 4,
   "id": "faa0b4af",
   "metadata": {},
   "outputs": [],
   "source": [
    "num_features = len(data[0])\n",
    "m = len(data)\n",
    "\n",
    "layer_array = [1]\n",
    "activation_array = ['sigmoid']\n",
    "\n",
    "# layer_array = [4,5,7, 1]\n",
    "# activation_array = ['Relu', 'Relu', 'Relu', 'sigmoid']\n",
    "\n",
    "X = construct_X(data)\n",
    "Y = construct_Y(data)"
   ]
  },
  {
   "cell_type": "code",
   "execution_count": 5,
   "id": "432a11f9",
   "metadata": {},
   "outputs": [],
   "source": [
    "def neural_network(X, Y, layer_array, activation_array, num_inter=10000):\n",
    "    \n",
    "    L = len(layer_array)\n",
    "    params = nn.initialize_params(layer_array, X, 0.011)\n",
    "#     print(num_inter)\n",
    "    for i in range(num_inter):\n",
    "#         print(i)\n",
    "        \n",
    "        A, stored_Al_Zl = nn.forward_prop(params, activation_array, layer_array, X)\n",
    "        \n",
    "        cost = nn.comp_cost(Y, stored_Al_Zl[f\"A{L}\"])\n",
    "        \n",
    "        grads = nn.back_prop(layer_array, activation_array, stored_Al_Zl, params, X, Y)\n",
    "        \n",
    "        params = nn.update_params(params, grads, .0001, layer_array)\n",
    "        \n",
    "        if(i%10000 == 0):\n",
    "            print(i, cost)\n",
    "            \n",
    "    return params"
   ]
  },
  {
   "cell_type": "code",
   "execution_count": 6,
   "id": "ffdfab2a",
   "metadata": {
    "scrolled": true
   },
   "outputs": [
    {
     "name": "stdout",
     "output_type": "stream",
     "text": [
      "0 0.9883947758106786\n",
      "10000 0.6095640011766079\n",
      "20000 0.6077658465510579\n",
      "30000 0.6063361253053121\n",
      "40000 0.6049379562131216\n",
      "50000 0.6035571799314803\n",
      "60000 0.6021930193702258\n",
      "70000 0.6008452660614407\n",
      "80000 0.5995137363130709\n",
      "90000 0.5981982481928526\n",
      "100000 0.5968986206143165\n",
      "110000 0.5956146733394079\n",
      "120000 0.5943462270143828\n",
      "130000 0.5930931032054705\n",
      "140000 0.5918551244336689\n",
      "150000 0.5906321142087557\n",
      "160000 0.5894238970624955\n",
      "170000 0.5882302985810025\n",
      "180000 0.587051145436201\n",
      "190000 0.5858862654163449\n",
      "200000 0.5847354874555526\n",
      "210000 0.5835986416623201\n",
      "220000 0.5824755593469788\n",
      "230000 0.5813660730480751\n",
      "240000 0.5802700165576408\n",
      "250000 0.5791872249453411\n",
      "260000 0.5781175345814796\n",
      "270000 0.577060783158852\n",
      "280000 0.5760168097134362\n",
      "290000 0.5749854546439181\n",
      "300000 0.573966559730046\n",
      "310000 0.5729599681498194\n",
      "320000 0.5719655244955146\n",
      "330000 0.5709830747885521\n",
      "340000 0.5700124664932179\n",
      "350000 0.5690535485292465\n",
      "360000 0.5681061712832851\n",
      "370000 0.567170186619249\n",
      "380000 0.566245447887588\n",
      "390000 0.5653318099334842\n",
      "400000 0.5644291291039987\n",
      "410000 0.5635372632541942\n",
      "420000 0.5626560717522517\n",
      "430000 0.5617854154836084\n",
      "440000 0.5609251568541426\n",
      "450000 0.5600751597924295\n",
      "460000 0.5592352897510964\n",
      "470000 0.5584054137073055\n",
      "480000 0.5575854001623882\n",
      "490000 0.5567751191406636\n",
      "500000 0.5559744421874696\n",
      "510000 0.5551832423664281\n",
      "520000 0.5544013942559838\n",
      "530000 0.5536287739452365\n",
      "540000 0.5528652590291011\n",
      "550000 0.5521107286028187\n",
      "560000 0.5513650632558531\n",
      "570000 0.5506281450651938\n",
      "580000 0.5498998575880989\n",
      "590000 0.5491800858543046\n",
      "600000 0.5484687163577218\n",
      "610000 0.5477656370476555\n",
      "620000 0.5470707373195679\n",
      "630000 0.5463839080054066\n",
      "640000 0.5457050413635345\n",
      "650000 0.5450340310682716\n",
      "660000 0.5443707721990851\n",
      "670000 0.5437151612294399\n",
      "680000 0.5430670960153402\n",
      "690000 0.5424264757835805\n",
      "700000 0.5417932011197278\n",
      "710000 0.5411671739558528\n",
      "720000 0.5405482975580395\n",
      "730000 0.5399364765136742\n",
      "740000 0.5393316167185531\n",
      "750000 0.5387336253638143\n",
      "760000 0.5381424109227152\n",
      "770000 0.5375578831372665\n",
      "780000 0.5369799530047501\n",
      "790000 0.5364085327641223\n",
      "800000 0.5358435358823308\n",
      "810000 0.5352848770405487\n",
      "820000 0.5347324721203451\n",
      "830000 0.5341862381898024\n",
      "840000 0.5336460934895959\n",
      "850000 0.533111957419041\n",
      "860000 0.5325837505221304\n",
      "870000 0.5320613944735594\n",
      "880000 0.5315448120647576\n",
      "890000 0.5310339271899345\n",
      "900000 0.5305286648321488\n",
      "910000 0.5300289510494074\n",
      "920000 0.5295347129608061\n",
      "930000 0.529045878732718\n",
      "940000 0.528562377565038\n",
      "950000 0.528084139677484\n",
      "960000 0.5276110962959765\n",
      "970000 0.5271431796390812\n",
      "980000 0.5266803229045445\n",
      "990000 0.5262224602559026\n"
     ]
    }
   ],
   "source": [
    "params = neural_network(X, Y, layer_array, activation_array, num_inter=1000000)"
   ]
  },
  {
   "cell_type": "code",
   "execution_count": 15,
   "id": "bb5ecab5",
   "metadata": {},
   "outputs": [],
   "source": [
    "preds,A_final, accuracy = nn.predict(params, activation_array, layer_array, X, Y)"
   ]
  },
  {
   "cell_type": "code",
   "execution_count": 16,
   "id": "8db448d9",
   "metadata": {},
   "outputs": [
    {
     "name": "stdout",
     "output_type": "stream",
     "text": [
      "Training set accuracy: 0.7666666666666667\n"
     ]
    }
   ],
   "source": [
    "print('Training set accuracy:',accuracy)"
   ]
  },
  {
   "cell_type": "code",
   "execution_count": 17,
   "id": "25687fb6",
   "metadata": {},
   "outputs": [
    {
     "name": "stdout",
     "output_type": "stream",
     "text": [
      "Test set accuracy: 0.75\n"
     ]
    }
   ],
   "source": [
    "test_X = construct_X(data_test)\n",
    "test_Y = construct_Y(data_test)\n",
    "\n",
    "preds,A_final, accuracy = nn.predict(params, activation_array, layer_array, test_X, test_Y)\n",
    "print('Test set accuracy:',accuracy)"
   ]
  },
  {
   "cell_type": "code",
   "execution_count": 19,
   "id": "60b3220d",
   "metadata": {},
   "outputs": [
    {
     "name": "stdout",
     "output_type": "stream",
     "text": [
      "F1 score: 0.58\n"
     ]
    }
   ],
   "source": [
    " print('F1 score:',f1_score(test_Y, preds[0]))"
   ]
  },
  {
   "cell_type": "code",
   "execution_count": null,
   "id": "6e8bddeb",
   "metadata": {},
   "outputs": [],
   "source": []
  }
 ],
 "metadata": {
  "kernelspec": {
   "display_name": "Python 3 (ipykernel)",
   "language": "python",
   "name": "python3"
  },
  "language_info": {
   "codemirror_mode": {
    "name": "ipython",
    "version": 3
   },
   "file_extension": ".py",
   "mimetype": "text/x-python",
   "name": "python",
   "nbconvert_exporter": "python",
   "pygments_lexer": "ipython3",
   "version": "3.11.5"
  }
 },
 "nbformat": 4,
 "nbformat_minor": 5
}
