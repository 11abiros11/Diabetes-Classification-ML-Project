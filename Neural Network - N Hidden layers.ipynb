{
 "cells": [
  {
   "cell_type": "code",
   "execution_count": 1,
   "id": "2d31c75f",
   "metadata": {},
   "outputs": [],
   "source": [
    "import numpy as np\n",
    "import tensorflow as tf\n",
    "from sklearn.metrics import f1_score, precision_score, recall_score\n",
    "from sklearn.model_selection import train_test_split\n",
    "\n",
    "import neural_network_methods as nn"
   ]
  },
  {
   "cell_type": "code",
   "execution_count": 2,
   "id": "7f14960b",
   "metadata": {},
   "outputs": [
    {
     "data": {
      "text/plain": [
       "'1.26.4'"
      ]
     },
     "execution_count": 2,
     "metadata": {},
     "output_type": "execute_result"
    }
   ],
   "source": [
    "data_total = np.loadtxt('diabetes_dataset_total.csv', str)\n",
    "np.version.version\n",
    "# data = np.loadtxt('diabetes_dataset.csv', str)\n",
    "# data_test = np.loadtxt('diabetes_test_set.csv', str)"
   ]
  },
  {
   "cell_type": "code",
   "execution_count": 3,
   "id": "9424ca82",
   "metadata": {},
   "outputs": [],
   "source": [
    "def construct_X(data):\n",
    "    \n",
    "    n = len(data)\n",
    "    num_features = 0\n",
    "    \n",
    "    for i in range(len(data[0])):\n",
    "        if(data[0][i] == \",\"):\n",
    "            num_features += 1\n",
    "    \n",
    "    X = np.zeros((n, num_features))\n",
    "    for i in range(n):\n",
    "        arr = data[i].split(\",\")\n",
    "        for j in range(num_features):\n",
    "            X[i][j] = arr[j]\n",
    "        \n",
    "    return X\n",
    "    \n",
    "\n",
    "def construct_Y(data):\n",
    "    \n",
    "    n = len(data)\n",
    "    \n",
    "    Y = np.zeros(n)\n",
    "    for i in range(n):\n",
    "        Y[i] = data[i][-1]\n",
    "        \n",
    "    return Y\n",
    "\n",
    "def normalize(X):\n",
    "    num_features = X.shape[0]\n",
    "    for i in range(num_features):\n",
    "        X[i] = (X[i]-np.mean(X[i]))/np.std(X[i])\n",
    "        \n",
    "    return X"
   ]
  },
  {
   "cell_type": "code",
   "execution_count": 4,
   "id": "5521fb5d",
   "metadata": {},
   "outputs": [],
   "source": [
    "def split_train_test(data, num_train):\n",
    "    \n",
    "    train = data[0:num_train]\n",
    "    test  = data[num_train:]\n",
    "    \n",
    "    return train, test"
   ]
  },
  {
   "cell_type": "code",
   "execution_count": 5,
   "id": "b5ffaf6a",
   "metadata": {},
   "outputs": [
    {
     "name": "stdout",
     "output_type": "stream",
     "text": [
      "(768, 8)\n"
     ]
    }
   ],
   "source": [
    "X_total = construct_X(data_total)\n",
    "Y_total = construct_Y(data_total)\n",
    "print(X_total.shape)"
   ]
  },
  {
   "cell_type": "code",
   "execution_count": 6,
   "id": "ac601df9",
   "metadata": {},
   "outputs": [
    {
     "name": "stdout",
     "output_type": "stream",
     "text": [
      "(700, 8) (68, 8)\n"
     ]
    }
   ],
   "source": [
    "X_total = construct_X(data_total)\n",
    "Y_total = construct_Y(data_total)\n",
    "\n",
    "X, test_X, Y, test_Y = train_test_split(X_total, Y_total, train_size = .912, random_state = 2)\n",
    "# train, test = split_train_test(data_total, 700)\n",
    "print(X.shape, test_X.shape)"
   ]
  },
  {
   "cell_type": "code",
   "execution_count": 7,
   "id": "faa0b4af",
   "metadata": {},
   "outputs": [],
   "source": [
    "num_features = len(X_total[1])\n",
    "m = len(X)\n",
    "\n",
    "# layer_array = [10, 1]\n",
    "# activation_array = ['relu', 'sigmoid']\n",
    "\n",
    "# layer_array = [20, 10, 5, 3, 1]\n",
    "layer_array = [10, 5, 3, 1]\n",
    "# layer_array = [25, 15, 10, 6, 3, 1]\n",
    "# layer_array = [10, 5, 3, 1]\n",
    "activation_array = ['Relu', 'Relu', 'Relu', 'sigmoid']"
   ]
  },
  {
   "cell_type": "code",
   "execution_count": 8,
   "id": "432a11f9",
   "metadata": {},
   "outputs": [],
   "source": [
    "def neural_network(X, Y, layer_array, activation_array, lamb, optimizer = 'normal', num_iter=10000):\n",
    "    \n",
    "    L = len(layer_array)\n",
    "    cost_array = np.zeros(int(num_iter/1000))\n",
    "    alpha = .005\n",
    "    t = 0\n",
    "    beta_momentum = .95\n",
    "    beta_adam_1 = .92\n",
    "    beta_adam_2 = .998\n",
    "    eps = 1e-8\n",
    "    params = nn.initialize_params(layer_array, X, 0.07)\n",
    "#     print(params)\n",
    "    if(optimizer == 'momentum'):\n",
    "        v = nn.initialize_optimizer(params, layer_array, optimizer)\n",
    "    elif(optimizer == 'Adam'):    \n",
    "        v, s = nn.initialize_optimizer(params, layer_array, optimizer)\n",
    "\n",
    "    for i in range(num_iter):\n",
    "        A, stored_Al_Zl = nn.forward_prop(params, activation_array, layer_array, X)\n",
    "        \n",
    "        cost = nn.comp_cost(Y, stored_Al_Zl[f\"A{L}\"], params, L, lamb, regularization = True)\n",
    "        \n",
    "        grads = nn.back_prop(layer_array, activation_array, stored_Al_Zl, params, X, Y, lamb)\n",
    "        \n",
    "        if(optimizer == 'normal'):\n",
    "            params = nn.update_params(params, grads, alpha, layer_array, 0, 0, t, 0, 0, 0, eps, optimizer)\n",
    "        elif(optimizer == 'momentum'):\n",
    "            params, v = nn.update_params(params, grads, alpha, layer_array, v, 0, 0, beta_momentum, 0, 0, eps, optimizer)\n",
    "        elif(optimizer == 'Adam'):\n",
    "            params, v, s, v_fixed, s_fixed = nn.update_params(params, grads, alpha, layer_array, v, s, t, beta_momentum, beta_adam_1, beta_adam_2, eps, optimizer)\n",
    "            t = t+1\n",
    "            print(grads)\n",
    "        #         params = nn.update_params(params, grads, .1, layer_array)\n",
    "        \n",
    "        if(i%1000 == 0):\n",
    "            print(i, cost)\n",
    "            index = i%1000\n",
    "            cost_array[index] = cost\n",
    "            \n",
    "    return params, cost_array"
   ]
  },
  {
   "cell_type": "code",
   "execution_count": 9,
   "id": "cf6ff1e0",
   "metadata": {},
   "outputs": [
    {
     "name": "stdout",
     "output_type": "stream",
     "text": [
      "(700, 8) (700,)\n"
     ]
    }
   ],
   "source": [
    "print(X.shape, Y.shape)"
   ]
  },
  {
   "cell_type": "code",
   "execution_count": 10,
   "id": "ffdfab2a",
   "metadata": {
    "scrolled": true
   },
   "outputs": [
    {
     "name": "stdout",
     "output_type": "stream",
     "text": [
      "0 0.6930993014834315\n",
      "1000 0.6490905071709266\n",
      "2000 0.6451119165145215\n",
      "3000 0.6444942008420295\n",
      "4000 0.6439987194869432\n",
      "5000 0.6427454078238553\n",
      "6000 0.6371208543746477\n",
      "7000 0.6194027986822355\n",
      "8000 0.6070328496188127\n",
      "9000 0.5990400125565531\n",
      "10000 0.591665638949107\n",
      "11000 0.5841678315037263\n",
      "12000 0.575038306257653\n",
      "13000 0.5666858573833473\n",
      "14000 0.5578300803756271\n",
      "15000 0.5454973621976403\n",
      "16000 0.5311081112611415\n",
      "17000 0.5151622719560203\n",
      "18000 0.49638385253489165\n",
      "19000 0.47795297492511735\n",
      "20000 0.4622478550329726\n",
      "21000 0.4487463929014251\n",
      "22000 0.43395441988757577\n",
      "23000 0.46429497417423715\n",
      "24000 0.43765772611448306\n",
      "25000 0.4363092819216793\n",
      "26000 0.41879102382544253\n",
      "27000 0.42727904221451474\n",
      "28000 0.4074203183671921\n",
      "29000 0.4452094611904327\n",
      "30000 0.425763620558418\n",
      "31000 0.3994185494064209\n",
      "32000 0.5376021095944183\n",
      "33000 0.41359803204951295\n",
      "34000 0.3912279092204848\n",
      "35000 0.39912544682394324\n",
      "36000 0.39674402265393294\n",
      "37000 0.3827250117673348\n",
      "38000 0.383106210090126\n",
      "39000 0.38293822804642835\n",
      "40000 0.3792233357713576\n",
      "41000 0.3788268478112309\n",
      "42000 0.37840817973695984\n",
      "43000 0.3773929020040936\n",
      "44000 0.3804412434945973\n",
      "45000 0.40216224362188313\n",
      "46000 0.3823930786535802\n",
      "47000 0.37984026914993596\n",
      "48000 0.3807740859464735\n",
      "49000 0.3773873976494681\n",
      "50000 0.37498595093689147\n",
      "51000 0.3808093029252774\n",
      "52000 0.373635983481886\n",
      "53000 0.3767494300938612\n",
      "54000 0.3858507378145698\n",
      "55000 0.37267591343939627\n",
      "56000 0.3729300398494499\n",
      "57000 0.39115438741275854\n",
      "58000 0.3719347936295404\n",
      "59000 0.37786146352160394\n",
      "60000 0.3759554493575825\n",
      "61000 0.37684908831965613\n",
      "62000 0.3720842161734469\n",
      "63000 0.379201790527017\n",
      "64000 0.3759439685805137\n",
      "65000 0.38115428563856074\n",
      "66000 0.37402152418035095\n",
      "67000 0.37670852345515904\n",
      "68000 0.37388333355898273\n",
      "69000 0.37229716957304737\n",
      "70000 0.3847117655472691\n",
      "71000 0.37160792700406503\n",
      "72000 0.3713323792848462\n",
      "73000 0.37207245661644517\n",
      "74000 0.37148690032166376\n",
      "75000 0.37337795983824673\n",
      "76000 0.3775284254256259\n",
      "77000 0.3708660573205398\n",
      "78000 0.3704131363518938\n",
      "79000 0.38117256500235064\n",
      "80000 0.3737932618150439\n",
      "81000 0.37506495189615124\n",
      "82000 0.3717181022703118\n",
      "83000 0.37018253197320766\n",
      "84000 0.37326063172533597\n",
      "85000 0.37510049223883235\n",
      "86000 0.37581031166561935\n",
      "87000 0.37089671446280387\n",
      "88000 0.37399361813453436\n",
      "89000 0.3715053954105773\n",
      "90000 0.378279111921772\n",
      "91000 0.37044549997388154\n",
      "92000 0.373662457757473\n",
      "93000 0.37468078984746866\n",
      "94000 0.3729504340764308\n",
      "95000 0.38187659502140536\n",
      "96000 0.36969925935715686\n",
      "97000 0.380149832141077\n",
      "98000 0.37822494636357756\n",
      "99000 0.3760672936025587\n",
      "100000 0.37111707703255703\n",
      "101000 0.38429581958999565\n",
      "102000 0.37974049890335626\n",
      "103000 0.3778413194431631\n",
      "104000 0.37324624417345276\n",
      "105000 0.3755335295897303\n",
      "106000 0.3766149220082651\n",
      "107000 0.3701150736993452\n",
      "108000 0.3762930446972126\n",
      "109000 0.37364743829235947\n"
     ]
    }
   ],
   "source": [
    "params, cost_array = neural_network(X.T, Y, layer_array, activation_array, 0.2, optimizer = 'momentum', num_iter=110000)"
   ]
  },
  {
   "cell_type": "code",
   "execution_count": 11,
   "id": "bb5ecab5",
   "metadata": {},
   "outputs": [],
   "source": [
    "preds_train,A_final, accuracy = nn.predict(params, activation_array, layer_array, X.T, Y)"
   ]
  },
  {
   "cell_type": "code",
   "execution_count": 12,
   "id": "8db448d9",
   "metadata": {},
   "outputs": [
    {
     "name": "stdout",
     "output_type": "stream",
     "text": [
      "Training set accuracy: 0.8257142857142857\n"
     ]
    }
   ],
   "source": [
    "print('Training set accuracy:',accuracy)"
   ]
  },
  {
   "cell_type": "code",
   "execution_count": 13,
   "id": "25687fb6",
   "metadata": {},
   "outputs": [
    {
     "name": "stdout",
     "output_type": "stream",
     "text": [
      "Test set accuracy: 0.7647058823529411\n"
     ]
    }
   ],
   "source": [
    "preds_test,A_final, accuracy = nn.predict(params, activation_array, layer_array, test_X.T, test_Y)\n",
    "print('Test set accuracy:',accuracy)"
   ]
  },
  {
   "cell_type": "code",
   "execution_count": 14,
   "id": "44cea339",
   "metadata": {},
   "outputs": [
    {
     "name": "stdout",
     "output_type": "stream",
     "text": [
      "F1 score: 0.68\n",
      "Precision score: 0.7083333333333334\n",
      "Recall score: 0.6538461538461539\n"
     ]
    }
   ],
   "source": [
    "print('F1 score:', f1_score(test_Y, preds_test[0]))\n",
    "print('Precision score:', precision_score(test_Y, np.int64(preds_test)[0]))\n",
    "print('Recall score:', recall_score(test_Y, np.int64(preds_test)[0]))"
   ]
  },
  {
   "cell_type": "markdown",
   "id": "ff7517a4",
   "metadata": {},
   "source": [
    "Selected Cases (700 train, 68 test): \n",
    "\n",
    "       Layers | Initial Factor|beta_1| alpha | lambda | train | test  | f1    | precision | recall| layer breakdown| Runs\n",
    "       5      |   0.07        |0.00  | .1    | 0.2    | .752  | .721  | .5366 | .7333     | .4231 |  (20,10,5,3,1) | 20000\n",
    "       5      |   0.07        |0.00  | .025  | 0.5    | .867  | .750  | .6909 | .6552     | .7308 |  (20,10,5,3,1) | 50000\n",
    "       5      |   0.07        |0.00  | .010  | 0.5    | .849  | .750  | .7213 | .6286     | .8462 |  (20,10,5,3,1) | 50000\n",
    "       \n",
    "       **Momentum**\n",
    "       5      |   0.07        |0.91  | .1    | 0.20   | .851  | .750  | .6909 | .6552     | .7308 |  (10,7,5,3,1)  | 50000\n",
    "       5      |   0.07        |0.95  | .1    | 0.20   | .909  | .794  | .7407 | .7143     | .7692 |  (20,10,5,3,1) | 20000\n",
    "       5      |   0.07        |0.96  | .1    | 0.20   | .959  | .662  | .5818 | .5517     | .6154 |  (20,10,5,3,1) | 20000\n",
    "       5      |   0.07        |0.97  | .1    | 0.15   | .904  | .765  | .6923 | .6923     | .6923 |  (20,10,5,3,1) | 20000\n",
    "       4      |   0.07        |0.95  | .075  | 0.20   | .837  | .779  | .7059 | .7200     | .6923 |  (10,5,3,1)    | 110000\n",
    "       4      |   0.07        |0.90  | .005  | 0.20   | .877  | .779  | .7368 | .6774     | .8077 |  (15,5,3,1)    | 110000\n",
    "       4      |   0.07        |0.95  | .005  | 0.20   | .904  | .750  | .6909 | .6552     | .7308 |  (17,5,3,1)    | 110000"
   ]
  },
  {
   "cell_type": "markdown",
   "id": "9f9392f2",
   "metadata": {},
   "source": [
    "Special thanks to DeepLearning.ai for the coursework/syntax help on the NN structure codes.\n",
    "\n",
    "Retrieved from DeepLearning.AI (2024, December 25). \n",
    "\n",
    "DeepLearning.AI (December 2024). Logistic Regression with a Neural Network Mindset. Retrieved from C1_W2 Graded Assignment 1 in the Deep Learning Specialization\n",
    "\n",
    "DeepLearning.AI (December 2024). Planar Data Classification with One Hidden layer. Retrieved from C1_W3 Graded Assignment 1 in the Deep Learning Specialization\n",
    "\n",
    "DeepLearning.AI (December 2024). Build your Deep Neural Network: Step by Step. Retrieved from C1_W4 Graded Assignment 1 in the Deep Learning Specialization\n",
    "\n",
    "DeepLearning.AI (December 2024). Deep Neural Network - Application. Retrieved from C1_W4 Graded Assignment 3 in the Deep Learning Specialization\n",
    "\n",
    "DeepLearning.AI (December 2024). Gradient Checking. Retrieved from C2_W1 Graded Assignment 3 in the Deep Learning Specialization\n",
    "\n",
    "DeepLearning.AI (December 2024). Optimization methods. Retrieved from C2_W2 Graded Assignment 1 in the Deep Learning Specialization"
   ]
  },
  {
   "cell_type": "code",
   "execution_count": null,
   "id": "f07c5c08",
   "metadata": {},
   "outputs": [],
   "source": []
  }
 ],
 "metadata": {
  "kernelspec": {
   "display_name": "Python 3 (ipykernel)",
   "language": "python",
   "name": "python3"
  },
  "language_info": {
   "codemirror_mode": {
    "name": "ipython",
    "version": 3
   },
   "file_extension": ".py",
   "mimetype": "text/x-python",
   "name": "python",
   "nbconvert_exporter": "python",
   "pygments_lexer": "ipython3",
   "version": "3.11.5"
  }
 },
 "nbformat": 4,
 "nbformat_minor": 5
}
