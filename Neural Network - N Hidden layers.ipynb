{
 "cells": [
  {
   "cell_type": "code",
   "execution_count": 1,
   "id": "2d31c75f",
   "metadata": {},
   "outputs": [],
   "source": [
    "import numpy as np\n",
    "import tensorflow as tf\n",
    "from sklearn.metrics import f1_score\n",
    "\n",
    "import neural_network_methods as nn"
   ]
  },
  {
   "cell_type": "code",
   "execution_count": 2,
   "id": "7f14960b",
   "metadata": {},
   "outputs": [],
   "source": [
    "data = np.loadtxt('diabetes_dataset.csv', str)\n",
    "data_test = np.loadtxt('diabetes_test_set.csv', str)"
   ]
  },
  {
   "cell_type": "code",
   "execution_count": 3,
   "id": "9424ca82",
   "metadata": {},
   "outputs": [],
   "source": [
    "def construct_X(data):\n",
    "    \n",
    "    n = len(data)\n",
    "    num_features = 0\n",
    "    \n",
    "    for i in range(len(data[0])):\n",
    "        if(data[0][i] == \",\"):\n",
    "            num_features += 1\n",
    "    \n",
    "    X = np.zeros((n, num_features))\n",
    "    for i in range(n):\n",
    "        arr = data[i].split(\",\")\n",
    "        for j in range(num_features):\n",
    "            X[i][j] = arr[j]\n",
    "        \n",
    "    return X.T\n",
    "    \n",
    "\n",
    "def construct_Y(data):\n",
    "    \n",
    "    n = len(data)\n",
    "    \n",
    "    Y = np.zeros(n)\n",
    "    for i in range(n):\n",
    "        Y[i] = data[i][-1]\n",
    "        \n",
    "    return Y\n",
    "\n",
    "def normalize(X):\n",
    "    num_features = X.shape[0]\n",
    "    for i in range(num_features):\n",
    "        X[i] = (X[i]-np.mean(X[i]))/np.std(X[i])\n",
    "        \n",
    "    return X"
   ]
  },
  {
   "cell_type": "code",
   "execution_count": 4,
   "id": "faa0b4af",
   "metadata": {},
   "outputs": [],
   "source": [
    "num_features = len(data[0])\n",
    "m = len(data)\n",
    "\n",
    "# layer_array = [10, 1]\n",
    "# activation_array = ['relu', 'sigmoid']\n",
    "\n",
    "layer_array = [14,7,5, 1]\n",
    "activation_array = ['Relu', 'Relu', 'Relu','sigmoid']\n",
    "\n",
    "X = construct_X(data)\n",
    "Y = construct_Y(data)"
   ]
  },
  {
   "cell_type": "code",
   "execution_count": 5,
   "id": "432a11f9",
   "metadata": {},
   "outputs": [],
   "source": [
    "def neural_network(X, Y, layer_array, activation_array, num_inter=10000):\n",
    "    \n",
    "    L = len(layer_array)\n",
    "    params = nn.initialize_params(layer_array, X, 0.011)\n",
    "#     print(num_inter)\n",
    "    for i in range(num_inter):\n",
    "#         print(i)\n",
    "        \n",
    "        A, stored_Al_Zl = nn.forward_prop(params, activation_array, layer_array, X)\n",
    "        \n",
    "        cost = nn.comp_cost(Y, stored_Al_Zl[f\"A{L}\"])\n",
    "        \n",
    "        grads = nn.back_prop(layer_array, activation_array, stored_Al_Zl, params, X, Y)\n",
    "        \n",
    "        params = nn.update_params(params, grads, .01, layer_array)\n",
    "        \n",
    "        if(i%1000 == 0):\n",
    "            print(i, cost)\n",
    "            \n",
    "    return params"
   ]
  },
  {
   "cell_type": "code",
   "execution_count": 6,
   "id": "ffdfab2a",
   "metadata": {
    "scrolled": true
   },
   "outputs": [
    {
     "name": "stdout",
     "output_type": "stream",
     "text": [
      "0 0.6931489562575753\n",
      "1000 0.6457838482933965\n",
      "2000 0.6453626575524789\n",
      "3000 0.6453579019508501\n",
      "4000 0.645357443595456\n",
      "5000 0.6453569198476824\n",
      "6000 0.6453562216542148\n",
      "7000 0.6453552129263987\n",
      "8000 0.6453537000263477\n",
      "9000 0.6453511833326315\n",
      "10000 0.6453466556395722\n",
      "11000 0.6453372907425525\n",
      "12000 0.6453126607850019\n",
      "13000 0.6452045743041376\n",
      "14000 0.6421467585312622\n",
      "15000 0.5920450507957429\n",
      "16000 0.5651993354428491\n",
      "17000 0.5343804329256875\n",
      "18000 0.5064808286157809\n",
      "19000 0.49944156766059705\n",
      "20000 0.48847928435613786\n",
      "21000 0.4902061958062609\n",
      "22000 0.48290400522048493\n",
      "23000 0.4783509500074134\n",
      "24000 0.47388565948641515\n",
      "25000 0.47179274236996227\n",
      "26000 0.469652350747126\n",
      "27000 0.4668802668087664\n",
      "28000 0.46178123153594175\n",
      "29000 0.4649798860883905\n",
      "30000 0.4595069577008989\n",
      "31000 0.4583316938270178\n",
      "32000 0.4574261812440068\n",
      "33000 0.4542767703140501\n",
      "34000 0.4525273473066778\n",
      "35000 0.4489256855672113\n",
      "36000 0.4416125908165418\n",
      "37000 0.44284792275347057\n",
      "38000 0.44291532063245154\n",
      "39000 0.4373336153546476\n",
      "40000 0.43560340490451477\n",
      "41000 0.43216231987367243\n",
      "42000 0.42492295668064\n",
      "43000 0.41756426713655465\n",
      "44000 0.42124260421983\n",
      "45000 0.4142019306781755\n",
      "46000 0.4113116275926153\n",
      "47000 0.3971707719576932\n",
      "48000 0.39706369364790367\n",
      "49000 0.37417102609318925\n",
      "50000 0.3837976513233442\n",
      "51000 0.35894018038576747\n",
      "52000 0.3720731572719544\n",
      "53000 0.34303595386651814\n",
      "54000 0.33971961530617073\n",
      "55000 0.36866956750668956\n",
      "56000 0.347586841365232\n",
      "57000 0.34098046665074166\n",
      "58000 0.3588200052425463\n",
      "59000 0.3397065198188623\n",
      "60000 0.3650473710014266\n",
      "61000 0.35523170399115345\n",
      "62000 0.32459679029019967\n",
      "63000 0.3616948925208923\n",
      "64000 0.3901465355990093\n",
      "65000 0.35130706954257523\n",
      "66000 0.33362207595971566\n",
      "67000 0.33865911983214836\n",
      "68000 0.3338665219150976\n",
      "69000 0.34580246491780003\n",
      "70000 0.31785357704616063\n",
      "71000 0.3213393253621632\n",
      "72000 0.3019654626710201\n",
      "73000 0.31584899345744416\n",
      "74000 0.3145934675802824\n",
      "75000 0.39338024384084735\n",
      "76000 0.30144748926479087\n",
      "77000 0.29707347235434006\n",
      "78000 0.31215530980613854\n",
      "79000 0.3610582066410197\n",
      "80000 0.37409257717306904\n",
      "81000 0.2994442097336839\n",
      "82000 0.29382552771385395\n",
      "83000 0.3328013928547319\n",
      "84000 0.3806194893719367\n",
      "85000 0.2887405485621764\n",
      "86000 0.294189011108704\n",
      "87000 0.3147195790188174\n",
      "88000 0.24730711963021165\n",
      "89000 0.27052723312026755\n",
      "90000 0.25442621735861093\n",
      "91000 0.26347132356699604\n",
      "92000 0.31493067739367625\n",
      "93000 0.4604773407208455\n",
      "94000 0.24854799875962943\n",
      "95000 0.23613604507864575\n",
      "96000 0.321487050880209\n",
      "97000 0.2329305839437015\n",
      "98000 0.2443927598554103\n",
      "99000 0.30621201815831434\n"
     ]
    }
   ],
   "source": [
    "params = neural_network(X, Y, layer_array, activation_array, num_inter=100000)"
   ]
  },
  {
   "cell_type": "code",
   "execution_count": 7,
   "id": "bb5ecab5",
   "metadata": {},
   "outputs": [],
   "source": [
    "preds,A_final, accuracy = nn.predict(params, activation_array, layer_array, X, Y)"
   ]
  },
  {
   "cell_type": "code",
   "execution_count": 12,
   "id": "8db448d9",
   "metadata": {},
   "outputs": [
    {
     "name": "stdout",
     "output_type": "stream",
     "text": [
      "Training set accuracy: 0.7678571428571429\n"
     ]
    }
   ],
   "source": [
    "print('Training set accuracy:',accuracy)"
   ]
  },
  {
   "cell_type": "code",
   "execution_count": 14,
   "id": "25687fb6",
   "metadata": {},
   "outputs": [
    {
     "name": "stdout",
     "output_type": "stream",
     "text": [
      "Test set accuracy: 0.7678571428571429\n"
     ]
    }
   ],
   "source": [
    "test_X = construct_X(data_test)\n",
    "test_Y = construct_Y(data_test)\n",
    "\n",
    "preds,A_final, accuracy = nn.predict(params, activation_array, layer_array, test_X, test_Y)\n",
    "print('Test set accuracy:',accuracy)"
   ]
  },
  {
   "cell_type": "code",
   "execution_count": 15,
   "id": "44cea339",
   "metadata": {},
   "outputs": [
    {
     "name": "stdout",
     "output_type": "stream",
     "text": [
      "F1 score: 0.6976744186046512\n"
     ]
    }
   ],
   "source": [
    "print('F1 score:',f1_score(test_Y, preds[0]))"
   ]
  },
  {
   "cell_type": "code",
   "execution_count": null,
   "id": "02a6c0c2",
   "metadata": {},
   "outputs": [],
   "source": []
  }
 ],
 "metadata": {
  "kernelspec": {
   "display_name": "Python 3 (ipykernel)",
   "language": "python",
   "name": "python3"
  },
  "language_info": {
   "codemirror_mode": {
    "name": "ipython",
    "version": 3
   },
   "file_extension": ".py",
   "mimetype": "text/x-python",
   "name": "python",
   "nbconvert_exporter": "python",
   "pygments_lexer": "ipython3",
   "version": "3.11.5"
  }
 },
 "nbformat": 4,
 "nbformat_minor": 5
}
